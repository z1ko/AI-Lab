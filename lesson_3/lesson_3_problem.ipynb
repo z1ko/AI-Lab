{
 "cells": [
  {
   "cell_type": "markdown",
   "id": "c001c6c5-fdb7-4854-a930-92b81f2d9a3a",
   "metadata": {},
   "source": [
    "# AI-LAB LESSON 3: Constraint Optimization \n",
    "\n",
    "In the third session, we will work on the Constraint Optimization Problems (COPs). A real-life problem frequently involves both hard and soft constraints, when we formalize problems that have both types of constraints we get a constraint network augmented with a global cost function over all the variables. COPs find a complete assignment for all the variables, satisfying the hard constraints and optimizing the cost function."
   ]
  },
  {
   "cell_type": "code",
   "execution_count": 1,
   "id": "e1f68230-476d-45ab-9972-53da2a28b07b",
   "metadata": {},
   "outputs": [],
   "source": [
    "from bucket_elimination import BucketElimination\n",
    "from bucket import Bucket"
   ]
  },
  {
   "cell_type": "markdown",
   "id": "528cf229-ec9a-4608-b1bb-910a0cc4313e",
   "metadata": {},
   "source": [
    "The algorithm you will be asked to implement make use of two class **Bucket** and **BucketElimination** and require a basic knowledge of the python data strucutre **Dictionary**."
   ]
  },
  {
   "cell_type": "markdown",
   "id": "6bca6d79-b8d0-4d8d-8dc1-328ea715dd70",
   "metadata": {},
   "source": [
    "### Python Dictionaries\n",
    "A dictionary is a basic data structure implemented in python (in this lesson we use only the basic feature of this structure). \n",
    "Following some **hints:**"
   ]
  },
  {
   "cell_type": "code",
   "execution_count": 2,
   "id": "51a0c9b8-fea2-4546-b38f-e7a20b1b4562",
   "metadata": {},
   "outputs": [
    {
     "name": "stdout",
     "output_type": "stream",
     "text": [
      "Dictionary: {'key_0': 5, 'key_1': 8}\n",
      "Dictionary: {'key_0': 0, 'key_1': 1, 'key_2': 2}\n",
      "\n",
      "Iterate over keys:\n",
      "\t key_0 \t 0\n",
      "\t key_1 \t 1\n",
      "\t key_2 \t 2\n",
      "\n",
      "Iterate over values:\n",
      "\t 0\n",
      "\t 1\n",
      "\t 2\n"
     ]
    }
   ],
   "source": [
    "dic = { \"key_0\":5, \"key_1\":8 }\n",
    "print( \"Dictionary:\", dic )\n",
    "\n",
    "dic[\"key_0\"] = 0\n",
    "dic[\"key_1\"] = 1\n",
    "dic[\"key_2\"] = 2\n",
    "print( \"Dictionary:\", dic )\n",
    "\n",
    "print( \"\\nIterate over keys:\" )\n",
    "for key in dic.keys(): print( \"\\t\", key, \"\\t\", dic[key] )\n",
    "\n",
    "print( \"\\nIterate over values:\" )\n",
    "for val in dic.values(): print( \"\\t\", val )"
   ]
  },
  {
   "cell_type": "markdown",
   "id": "a694ede2-a94a-413e-8ce6-baf03aac176e",
   "metadata": {},
   "source": [
    "#### Python Unpacking\n",
    "Python implements the operator **\"*\"** for the unpacking of a list of variables. This operator can be useful to pass an array of parameters to a function (from a python list), avoiding the explicit extraction of each parameter from the list. This operator could also be useful when the number of parameters is unknown (or parametric). Following some **hints:**"
   ]
  },
  {
   "cell_type": "code",
   "execution_count": 3,
   "id": "c9c2f706-3a89-4fd0-a750-291a62745da7",
   "metadata": {},
   "outputs": [
    {
     "name": "stdout",
     "output_type": "stream",
     "text": [
      "Explicit extraction (f1): 3\n",
      "Python unpacking (f1): 3\n",
      "Python unpacking (f2): 19\n"
     ]
    }
   ],
   "source": [
    "def custom_function_1( var_1, var_2, var_3 ):\n",
    "    custom_sum = var_1 + var_2 + var_3\n",
    "    return custom_sum\n",
    "\n",
    "def custom_function_2( var_1, var_2, var_3, var_4 ):\n",
    "    custom_sum = var_1 + var_2 + var_3 + var_4\n",
    "    return custom_sum\n",
    "\n",
    "variable_list = [[1, 1, 1], [3, 4, 5, 7]]\n",
    "print( \"Explicit extraction (f1):\", custom_function_1(variable_list[0][0], variable_list[0][1], variable_list[0][2]) )\n",
    "\n",
    "print( \"Python unpacking (f1):\", custom_function_1(*variable_list[0]) )\n",
    "print( \"Python unpacking (f2):\", custom_function_2(*variable_list[1]) )"
   ]
  },
  {
   "cell_type": "markdown",
   "id": "ac070759-dc3a-43f8-b25d-c3595247eef7",
   "metadata": {},
   "source": [
    "### Bucket Class\n",
    "\n",
    "The class **Bucket** implements the data structure necessary for the bucket elimination and accepts the following arguments:\n",
    "* *variable (str)* - a string that represent the variable of the bucket (literals)\n",
    "* *soft_cnst (list)* -  the soft contraints, a list of lists, each list is built with the function name for the first element, followed by the intereseted variables.\n",
    "* *ineq_cnst (list)* - the hard contraints (only inequality constraints), a list of lists, each list represent the variable interested in the inequality contraints\n",
    "\n",
    "The class **Bucket** also implements the static method *plot_table (table)*, which prints the given table in a human-readable form. \n",
    "Example in the code snippet of the bucket elimination class below."
   ]
  },
  {
   "cell_type": "code",
   "execution_count": 4,
   "id": "c8d16e01-90cc-466b-b94a-9f22d53abf67",
   "metadata": {},
   "outputs": [
    {
     "name": "stdout",
     "output_type": "stream",
     "text": [
      "Bucket of Variable: (a). \n",
      "\tNumber of soft constraints: 0                     \n",
      "\tNumber of hard constraints: 1\n",
      "Bucket of Variable: (b). \n",
      "\tNumber of soft constraints: 0                     \n",
      "\tNumber of hard constraints: 0\n"
     ]
    }
   ],
   "source": [
    "bucket_a = Bucket( variable='a', soft_cnst=[], ineq_cnst=[['a', 'b']] )\n",
    "bucket_b = Bucket( variable='b', soft_cnst=[], ineq_cnst=[] )\n",
    "\n",
    "print( bucket_a )\n",
    "print( bucket_b )"
   ]
  },
  {
   "cell_type": "markdown",
   "id": "1c4a58f6-6250-45f4-9beb-d0a0d8c0ee3a",
   "metadata": {},
   "source": [
    "### Bucket Elimination Class\n",
    "The class **BucketElimination** implements the basic methods for the bucket elimination in a tabular form and accepts the following argument:\n",
    "* *domain (str)* - the domain of all the variables for the problem, a dictionary with the variable name as key and a list of strings for the correspondin discrete domain.\n",
    "\n",
    "The following methods are also pre-implemented:\n",
    "* *add( bucket )* - method that add an object of the class bucket to the problem. \n",
    "* *bucket_processing()* - process all the buckets in the given order (following the add chain)\n",
    "* *value_propagation()* - propagate the value based on the bucket elimination procedure to obtain the global maximum of the given problem and the corresponding assignment for the variables.\n",
    "* *plot_assignment_as_graph( assignment, soft_eval )* - plot the colored graph following the assignment for the variables.\n",
    "* *get_tables()* - get method that returns the list of the generated tables\n",
    "\n",
    "The variable assignment, returned by the method *value_propagation()*, is a python dictionary where the **key** is name of the variable and the **value** is the assigned value from the given domain."
   ]
  },
  {
   "cell_type": "code",
   "execution_count": 5,
   "id": "ff738916-8834-4d6d-a749-d10a2f27775d",
   "metadata": {},
   "outputs": [
    {
     "name": "stdout",
     "output_type": "stream",
     "text": [
      "Print tables BEFORE the bucket processing:\n",
      "\n",
      "Print tables AFTER the bucket processing:\n",
      "\n",
      " a   | b   | SUM |\n",
      "-----|-----|-----|\n",
      " R   | B   |   0 |\n",
      " R   | Y   |   0 |\n",
      " G   | R   |   0 |\n",
      " G   | B   |   0 |\n",
      " G   | Y   |   0 |\n",
      " B   | R   |   0 |\n",
      " B   | Y   |   0 |\n",
      "\n",
      " b   | h_0 | SUM |\n",
      "-----|-----|-----|\n",
      " R   |   0 |   0 |\n",
      " B   |   0 |   0 |\n",
      " Y   |   0 |   0 |\n",
      "\n",
      "Variable Assignment: {'b': 'R', 'a': 'G'}\n",
      "\n",
      "Global Maximum: 0\n",
      "\n",
      "Plot the assignment in  a graphical form:\n",
      "\n"
     ]
    },
    {
     "data": {
      "image/png": "[encoded data removed]",
      "text/plain": [
       "<Figure size 432x288 with 1 Axes>"
      ]
     },
     "metadata": {},
     "output_type": "display_data"
    }
   ],
   "source": [
    "domains = { 'a':['R', 'G', 'B'], 'b':['R', 'B', 'Y'] }\n",
    "\n",
    "bucket_elimination = BucketElimination( domains )\n",
    "bucket_elimination.add( bucket_a )\n",
    "bucket_elimination.add( bucket_b )\n",
    "\n",
    "print( \"Print tables BEFORE the bucket processing:\" )\n",
    "for table in bucket_elimination.get_tables(): \n",
    "    print()\n",
    "    Bucket.plot_table( table )\n",
    "\n",
    "bucket_elimination.bucket_processing()\n",
    "\n",
    "print( \"\\nPrint tables AFTER the bucket processing:\" )\n",
    "for table in bucket_elimination.get_tables(): \n",
    "    print()\n",
    "    Bucket.plot_table( table )\n",
    "    \n",
    "assignment, global_maximum = bucket_elimination.value_propagation()\n",
    "print( \"\\nVariable Assignment:\", assignment )\n",
    "print( \"\\nGlobal Maximum:\", global_maximum )\n",
    "print( \"\\nPlot the assignment in  a graphical form:\\n\" )\n",
    "bucket_elimination.plot_assignment_as_graph( assignment, soft_eval=[] )"
   ]
  },
  {
   "cell_type": "markdown",
   "id": "ffe17ebb-ed0e-442a-a7c3-450227855177",
   "metadata": {},
   "source": [
    "## Assignment: Bucket Elimination\n",
    "\n",
    "Your assignment is to implement (or complete) all the necessary functions for the bucket elimination algorithm. In particular you must implement the following functions: \n",
    "* **constraint_partitioning( bucket_elimination, variable_order, soft_constraints, hard_constraints )** - in this function you have to implement the logic behind the bucket elimination constraints partitioning, given all the soft constraints and the hard constraints, this function generates all the bucket (in the given order following the algorithm) and add all the bucket to the given bucket elimination class.\n",
    "* **main_bucket_elimination( problem_name, problem_definition )** - in this function you have to implement the logic behind the bucket elimination process to correctly compute the final_tables, assignment and global maximum (here you should exploit the Bucket and the BucketElimination class and methods).\n",
    "* **get_max_table_size( final_tables )** - this function must return the maximum number of elements that appear in one of the tables generated during the process, i.e. the number of elements (rows*columns) that appear in one of the tables in the entire process.\n",
    "* **evaluate_soft_constraints( assignment, soft_constraints )** - this function must returns a list with the results of the evaluation of the soft constraints given the variables assignment."
   ]
  },
  {
   "cell_type": "code",
   "execution_count": 6,
   "id": "620e3e1c-4df6-4958-8265-4b3b2e622d43",
   "metadata": {},
   "outputs": [],
   "source": [
    "def constraint_partitioning( bucket_elimination, variable_order, soft_constraints, hard_constraints ):\n",
    "    \n",
    "    \"\"\"\n",
    "    Generate the bucket with the corresponding constraints in the correct order (inverse of the given), and add all the buckets to the bucket_elimination object that represent the problem.\n",
    "\n",
    "    Parameters\n",
    "    ----------\n",
    "        bucket_elimination : BucketElimination \n",
    "            the object of the class BucketElimination that represent the current problem (empty).\n",
    "        variable_order : list\n",
    "            the variables that appear in the problem in the given order.\n",
    "        soft_constraints : list\n",
    "            the soft contraints, a list of lists, each list is built with the function name for the first element, followed by the intereseted variables.\n",
    "        hard_constraints : list\n",
    "            the hard contraints (only inequality constraints), a list of lists, each list represent the variable interested in the inequality contraints.\n",
    "\n",
    "    Returns:\n",
    "    --------\n",
    "        bucket_elimination : BucketElimination\n",
    "            the object of the class BucketElimination that represents the current problem (with the bucket filled).\n",
    "    \"\"\"\n",
    "    \n",
    "    set_hard_constraints = hard_constraints.copy()\n",
    "    set_soft_constraints = soft_constraints.copy()\n",
    "    \n",
    "    # Processa le variabili al contrario\n",
    "    for var in reversed(variable_order):\n",
    "        \n",
    "        var_soft_constraints = []\n",
    "        var_hard_constraints = []\n",
    "        \n",
    "        # Alloca le vincoli soft della variabile del bucket\n",
    "        for constraint in set_soft_constraints:\n",
    "            if var in constraint:\n",
    "                var_soft_constraints.append(constraint)\n",
    "                \n",
    "        # Alloca i vincoli hard della variabiledel bucket\n",
    "        for constraint in set_hard_constraints:\n",
    "            if var in constraint:\n",
    "                var_hard_constraints.append(constraint)\n",
    "                \n",
    "        # Rimuove vincoli già allocati\n",
    "        set_soft_constraints = [c for c in set_soft_constraints if c not in var_soft_constraints]\n",
    "        set_hard_constraints = [c for c in set_hard_constraints if c not in var_hard_constraints]\n",
    "    \n",
    "        # Aggiunge bucket generato per la variabile\n",
    "        bucket = Bucket(variable = var, soft_cnst = var_soft_constraints, ineq_cnst = var_hard_constraints)\n",
    "        bucket_elimination.add(bucket)\n",
    "        \n",
    "    return bucket_elimination"
   ]
  },
  {
   "cell_type": "code",
   "execution_count": 7,
   "id": "6c8d845a-ad67-4db8-9640-463f2dc16147",
   "metadata": {},
   "outputs": [],
   "source": [
    "def main_bucket_elimination( problem_name, problem_definition ):\n",
    "    \n",
    "    \"\"\"\n",
    "    Main script of the bucket elimination, given the problem definition compute the global_maximum, \n",
    "    the correct assignment and the memory cost of the process.\n",
    "\n",
    "    Parameters\n",
    "    ----------\n",
    "        problem_name : str \n",
    "            the name of the problem, for visualization purpose.\n",
    "        problem_definition : list\n",
    "            complete definition of the problem, a list that contain (in order): \n",
    "            problem_domains, variable_order, problem_soft_constraints and problem_hard_constraints.\n",
    "    \"\"\"\n",
    "    \n",
    "    # Extract the problem constant from the parameter \"problem_definition\"\n",
    "    problem_domains, problem_order, problem_soft_constraints, problem_hard_constraints = problem_definition\n",
    "    assignment, global_maximum, max_table_size = None, None, None\n",
    "    \n",
    "    # Processa buckets\n",
    "    bucket_elimination = BucketElimination(problem_domains)\n",
    "    constraint_partitioning(bucket_elimination, problem_order, problem_soft_constraints, problem_hard_constraints)\n",
    "    bucket_elimination.bucket_processing()\n",
    "    \n",
    "    # Propaga valori e calcola vincoli soft\n",
    "    assignment, global_maximum = bucket_elimination.value_propagation()\n",
    "    evaluations = evaluate_soft_constraints(assignment, problem_soft_constraints)\n",
    "    max_table_size = get_max_table_size(bucket_elimination.get_tables())\n",
    "    \n",
    "    # Plot all the computed results\n",
    "    print( f\"\\nBucket Elimination for the: {problem_name}:\" )\n",
    "    print( f\"\\tVariable Assignment: {assignment}\" )\n",
    "    print( f\"\\tGlobal Maximum Found: {global_maximum}\" )\n",
    "    print( f\"\\tMaximum Table Size (with the order {problem_order}): {max_table_size}\" )\n",
    "    print( \"\\tGraphical Visualization:\" )\n",
    "    bucket_elimination.plot_assignment_as_graph( assignment, evaluations )"
   ]
  },
  {
   "cell_type": "code",
   "execution_count": 8,
   "id": "b5ae208e-6d60-4f6e-a1ff-a2f6f233c3f0",
   "metadata": {},
   "outputs": [],
   "source": [
    "def get_max_table_size( final_tables ):\n",
    "    \n",
    "    \"\"\"\n",
    "    Compute the maximum number of elements that appear in one of the table generated inside the main process.\n",
    "\n",
    "    Parameters\n",
    "    ----------\n",
    "        final_tables : list \n",
    "            list of the tables generated inside the loop for each bucket.\n",
    "\n",
    "    Returns:\n",
    "    --------\n",
    "        max_table_size : int\n",
    "            the number of elements inside the largest table (i.e., number of row multiplied by the number of columns).\n",
    "    \"\"\"\n",
    "    \n",
    "    max_table_size = 0\n",
    "    for table in final_tables:\n",
    "            table_size = len(table) * len(table[0])\n",
    "            max_table_size = max(table_size, max_table_size)\n",
    "            \n",
    "    return max_table_size"
   ]
  },
  {
   "cell_type": "code",
   "execution_count": 9,
   "id": "d7d6e6aa-1457-42a4-98d8-c4ba8caa543d",
   "metadata": {},
   "outputs": [],
   "source": [
    "def evaluate_soft_constraints( assignment, soft_constraints ): \n",
    "    \n",
    "    \"\"\"\n",
    "    Compute the value of the soft constraints, evaluating them on the given the variables assignment.\n",
    "\n",
    "    Parameters\n",
    "    ----------\n",
    "        assignment : dict \n",
    "            the assignment for each variable to obtain the maximum (the key is the literal and the value is the assigned value).\n",
    "        soft_constraints : list\n",
    "            the soft contraints, a list of lists, each list is built with the function name for the first element, followed by the intereseted variables.\n",
    "\n",
    "    Returns:\n",
    "    --------\n",
    "        evaluations : list\n",
    "            a list with the results of the evaluation of the soft constraints given the variables assignment.\n",
    "    \"\"\"\n",
    "    \n",
    "    evaluations = []\n",
    "    for constaint in soft_constraints:\n",
    "        \n",
    "        # Skippa primo elemento (function)\n",
    "        values = []\n",
    "        for var in constaint[1:]:\n",
    "            values.append(assignment[var])\n",
    "        \n",
    "        result = constaint[0](*values)\n",
    "        evaluations.append(result)\n",
    "        \n",
    "    \n",
    "    return evaluations"
   ]
  },
  {
   "cell_type": "markdown",
   "id": "c2314d11-43ca-4d24-ba0a-38f89523622f",
   "metadata": {},
   "source": [
    "### Problem Definitions:\n",
    "\n",
    "The following initializations provide the structure for the 3 problems of this lesson:"
   ]
  },
  {
   "cell_type": "code",
   "execution_count": 10,
   "id": "4f8614d0-853f-40da-b074-17670e10e116",
   "metadata": {},
   "outputs": [],
   "source": [
    "def F_1( x_i, x_j ):\n",
    "    if x_i != x_j: return 0\n",
    "    elif x_i == 'R' and x_j == 'R': return -1\n",
    "    elif x_i == 'B' and x_j == 'B': return -2 \n",
    "    else: raise ValueError(\"Invalid Value for F\")\n",
    "    \n",
    "def F_2( x_i, x_j ):\n",
    "    if x_i != x_j: return 0\n",
    "    elif x_i == 'R' and x_j == 'R': return 2\n",
    "    elif x_i == 'B' and x_j == 'B': return 1 \n",
    "    else: raise ValueError(\"Invalid Value for F\")\n",
    "\n",
    "PROBLEM_GC = [\n",
    "    { 'X1':['R', 'B', 'Y'], 'X2':['R', 'B', 'Y'], 'X3':['R', 'B', 'Y'], 'X4':['R', 'B', 'Y'], 'X5':['R', 'B', 'Y'] }, # PROBLEM DOMAINS\n",
    "    ['X5', 'X4', 'X3', 'X2', 'X1'], # PROBLEM ORDER\n",
    "    [], # PROBLEM SOFT CONSTRAINTS\n",
    "    [['X1', 'X2'], ['X2', 'X3'], ['X3', 'X4'], ['X2', 'X4'], ['X1', 'X4'], ['X2', 'X5'], ['X3', 'X5'], ['X1', 'X5']] # PROBLEM HARD CONSTRAINTS\n",
    "]    \n",
    "\n",
    "PROBLEM_2 = [\n",
    "    { 'X1':['R', 'B'], 'X2':['R', 'B'], 'X3':['R', 'B'], 'X4':['R', 'B'] }, # PROBLEM DOMAINS\n",
    "    ['X1', 'X2', 'X3', 'X4'], # PROBLEM ORDER\n",
    "    [[F_2, 'X1', 'X2'], [F_2, 'X2', 'X3'], [F_2, 'X2', 'X4']], # PROBLEM SOFT CONSTRAINTS\n",
    "    [['X1', 'X3'], ['X3', 'X4']] # PROBLEM HARD CONSTRAINTS\n",
    "]    \n",
    "\n",
    "PROBLEM_1 = [\n",
    "    { 'X1':['R', 'B'], 'X2':['R', 'B'], 'X3':['R', 'B'], 'X4':['R', 'B'] }, # PROBLEM DOMAINS\n",
    "    ['X4', 'X3', 'X2', 'X1'], # PROBLEM ORDER\n",
    "    [[F_1, 'X1', 'X2'], [F_1, 'X1', 'X4'], [F_1, 'X2', 'X4'], [F_1, 'X3', 'X4']], # PROBLEM SOFT CONSTRAINTS\n",
    "    [] # PROBLEM HARD CONSTRAINTS\n",
    "]"
   ]
  },
  {
   "cell_type": "markdown",
   "id": "97a2345a-5027-454c-8ed2-a2444436c098",
   "metadata": {},
   "source": [
    "## Exercise: Graph Coloring\n",
    "\n",
    "The following code calls your *get_bucket_elimination_tables* and *get_bucket_elimination_assignment* to the graph coloring problem:"
   ]
  },
  {
   "cell_type": "code",
   "execution_count": 11,
   "id": "65210d49-dfd2-49c6-8633-2e159f8d3f41",
   "metadata": {},
   "outputs": [
    {
     "name": "stdout",
     "output_type": "stream",
     "text": [
      "\n",
      "Bucket Elimination for the: Problem Graph Coloring:\n",
      "\tVariable Assignment: {'X5': 'R', 'X4': 'R', 'X3': 'B', 'X2': 'Y', 'X1': 'B'}\n",
      "\tGlobal Maximum Found: 0\n",
      "\tMaximum Table Size (with the order ['X5', 'X4', 'X3', 'X2', 'X1']): 120\n",
      "\tGraphical Visualization:\n"
     ]
    },
    {
     "data": {
      "image/png": "[encoded data removed]",
      "text/plain": [
       "<Figure size 432x288 with 1 Axes>"
      ]
     },
     "metadata": {},
     "output_type": "display_data"
    }
   ],
   "source": [
    "main_bucket_elimination( \"Problem Graph Coloring\", PROBLEM_GC )"
   ]
  },
  {
   "cell_type": "markdown",
   "id": "e62c80a8-41a1-4751-9516-efb3592a766e",
   "metadata": {},
   "source": [
    "Correct results can be found [here](lesson_3_results.txt) and with the resulting graph below:\n",
    "\n",
    "<img src=\"images/graph_coloring.png\" width=\"250\">\n",
    "\n",
    "### Exercise: Partial Tests 15/05/2013\n",
    "\n",
    "The following code calls your *get_bucket_elimination_tables* and *get_bucket_elimination_assignment* to compute and solve a complete bucket elimination problem and prints the results (tabular and graphical form). The problems are extracted from the partial test of *15/05/2013* and *04/05/2016*"
   ]
  },
  {
   "cell_type": "code",
   "execution_count": 12,
   "id": "5f087239-0fa0-4170-9757-c54daa1ad034",
   "metadata": {},
   "outputs": [
    {
     "name": "stdout",
     "output_type": "stream",
     "text": [
      "\n",
      "Bucket Elimination for the: Partial Test 15/05/2013:\n",
      "\tVariable Assignment: {'X4': 'R', 'X3': 'B', 'X2': 'R', 'X1': 'B'}\n",
      "\tGlobal Maximum Found: -1\n",
      "\tMaximum Table Size (with the order ['X4', 'X3', 'X2', 'X1']): 48\n",
      "\tGraphical Visualization:\n"
     ]
    },
    {
     "data": {
      "image/png": "[encoded data removed]",
      "text/plain": [
       "<Figure size 432x288 with 1 Axes>"
      ]
     },
     "metadata": {},
     "output_type": "display_data"
    }
   ],
   "source": [
    "main_bucket_elimination( \"Partial Test 15/05/2013\", PROBLEM_1 )"
   ]
  },
  {
   "cell_type": "markdown",
   "id": "989ed74b-1edb-468c-a89c-e37746870540",
   "metadata": {},
   "source": [
    "Correct results can be found [here](lesson_3_results.txt) and with the resulting graph below:\n",
    "\n",
    "<img src=\"images/partial_test_a.png\" width=\"250\">\n",
    "\n",
    "## Exercise: Partial Tests 04/05/2016\n",
    "\n",
    "The following code calls your *get_bucket_elimination_tables* and *get_bucket_elimination_assignment* to compute and solve a complete bucket elimination problem and prints the results (tabular and graphical form). The problems are extracted from the partial test of *15/05/2013* and *04/05/2016*"
   ]
  },
  {
   "cell_type": "code",
   "execution_count": 25,
   "id": "56280f78-8dd7-4030-86bd-5fede2c4691b",
   "metadata": {},
   "outputs": [
    {
     "name": "stdout",
     "output_type": "stream",
     "text": [
      "\n",
      "Bucket Elimination for the: Partial Test 04/05/2016:\n",
      "\tVariable Assignment: {'X1': 'R', 'X2': 'R', 'X3': 'B', 'X4': 'R'}\n",
      "\tGlobal Maximum Found: 4\n",
      "\tMaximum Table Size (with the order ['X1', 'X2', 'X3', 'X4']): 24\n",
      "\tGraphical Visualization:\n"
     ]
    },
    {
     "data": {
      "image/png": "[encoded data removed]",
      "text/plain": [
       "<Figure size 432x288 with 1 Axes>"
      ]
     },
     "metadata": {},
     "output_type": "display_data"
    }
   ],
   "source": [
    "main_bucket_elimination( \"Partial Test 04/05/2016\", PROBLEM_2 )"
   ]
  },
  {
   "cell_type": "markdown",
   "id": "35859c64-e71d-4967-a958-2abc064f502b",
   "metadata": {},
   "source": [
    "Correct results can be found [here](lesson_3_results.txt) and with the resulting graph below:\n",
    "\n",
    "<img src=\"images/partial_test_b.png\" width=\"250\">\n",
    "\n",
    "## Analysis: Variables Order\n",
    "\n",
    "Now that you have correctly implemented the bucket elimination algorithm, what can you say about the solutions they compute? Changing the order of the variables, does the result change? And the memory cost?"
   ]
  }
 ],
 "metadata": {
  "kernelspec": {
   "display_name": "Python 3 (ipykernel)",
   "language": "python",
   "name": "python3"
  },
  "language_info": {
   "codemirror_mode": {
    "name": "ipython",
    "version": 3
   },
   "file_extension": ".py",
   "mimetype": "text/x-python",
   "name": "python",
   "nbconvert_exporter": "python",
   "pygments_lexer": "ipython3",
   "version": "3.7.3"
  }
 },
 "nbformat": 4,
 "nbformat_minor": 5
}
