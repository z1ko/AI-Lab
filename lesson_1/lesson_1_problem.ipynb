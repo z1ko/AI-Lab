{
 "cells": [
  {
   "cell_type": "markdown",
   "metadata": {},
   "source": [
    "# AI-LAB LESSON 1: Uninformed Search Strategies\n",
    "\n",
    "In this first session we will work on uninformed search. \n",
    "\n",
    "### Maze Environments\n",
    "The environments used is **SmallMaze** (visible in the figure).\n",
    "\n",
    "<img src=\"images/maze.png\" width=\"300\">\n",
    "\n",
    "The agent starts in cell $(0, 2)$ and has to reach the treasure in $(4, 3)$.\n",
    "\n",
    "In order to use the environment we need first to import the packages of OpenAI Gym. Notice that due to the structure of this repository, we need to add the parent directory to the path"
   ]
  },
  {
   "cell_type": "code",
   "execution_count": 4,
   "metadata": {},
   "outputs": [],
   "source": [
    "import os, sys, time, math\n",
    "\n",
    "module_path = os.path.abspath(os.path.join('../tools'))\n",
    "if module_path not in sys.path:\n",
    "    sys.path.append(module_path)\n",
    "\n",
    "from utils.ai_lab_functions import *\n",
    "import gym, envs"
   ]
  },
  {
   "cell_type": "markdown",
   "metadata": {},
   "source": [
    "### Assignment 1: Breadth-First Search (BFS)\n",
    "\n",
    "Your first assignment is to implement the BFS algorithm on SmallMaze. In particular, you are required to implement both tree_search and graph_search versions of BFS that will be called by the generic bfs. \n",
    "\n",
    "The results returned by your **BFS** must be in the following form (path, time_cost, space_cost), more in detail:\n",
    "\n",
    "- **path** - tuple of state identifiers forming a path from the start state to the goal state. None if no solution is found.\n",
    "- **time_cost** - the number of nodes checked during the exploration.\n",
    "- **space_cost** - the maximum number of nodes in memory at the same time.\n",
    "\n",
    "After the correctness of your implementations have been assessed, you can run the algorithms on the **SmallMaze** environment.\n",
    "\n",
    "Functions to implement:\n",
    "\n",
    "- BFS_TreeSearch(problem)\n",
    "- BFS_GraphSearch(problem)\n",
    "\n",
    "Function **build_path(node)** can be used to return a tuple of states from the root node (excluded) to another node by following parent links.\n",
    "\n",
    "Here the pseudo-code form the book **Artificial Intelligence: A Modern Approach** for the *Graph Search* and *Tree Search*:\n",
    "\n",
    "<img src=\"images/tree-graph-search.png\" width=\"600\">\n",
    "\n",
    "Here the pseudo-code form the book **Artificial Intelligence: A Modern Approach** for the *BFS* algorithm, note that it refers to the implementation of the *Graph Search Version*:\n",
    "\n",
    "<img src=\"images/bfs.png\" width=\"600\">"
   ]
  },
  {
   "cell_type": "markdown",
   "metadata": {},
   "source": [
    "The next two functions have to be implemented"
   ]
  },
  {
   "cell_type": "code",
<<<<<<< HEAD
   "execution_count": 16,
=======
   "execution_count": null,
>>>>>>> 426eb3bb22045d0f5712c7229494bccdd687d093
   "metadata": {},
   "outputs": [],
   "source": [
    "def BFS_TreeSearch(problem):\n",
    "    \"\"\"\n",
    "    Tree Search BFS\n",
    "    \n",
    "    Args:\n",
    "        problem: OpenAI Gym environment\n",
    "        \n",
    "    Returns:\n",
    "        (path, time_cost, space_cost): solution as a path and stats.\n",
    "    \"\"\"\n",
    "    \n",
    "    # Stato iniziale\n",
    "    node = Node(problem.startstate, None)\n",
    "    \n",
    "    time_cost = 0\n",
    "    space_cost = 1\n",
    "    \n",
    "    frontier = NodeQueue()\n",
    "    frontier.add(node)\n",
    "    \n",
    "    while True:\n",
    "        if frontier.is_empty():\n",
    "            return set(), 0, 0\n",
    "        \n",
    "        # Aggiorno statistiche\n",
    "        space_cost = max(space_cost, len(frontier))\n",
    "        time_cost += 1;\n",
    "        \n",
    "        node = frontier.remove()\n",
    "        for action in range(problem.action_space.n):\n",
    "            \n",
    "            next_node = Node(problem.sample(node.state, action), node)\n",
    "            next_state = next_node.state\n",
    "            \n",
    "            if next_state not in frontier:\n",
    "                \n",
    "                # Trovata soluzione\n",
    "                if next_state == problem.goalstate:\n",
    "                    return build_path(next_node), time_cost, space_cost\n",
    "            \n",
    "                frontier.add(next_node)\n",
    "    \n",
    "    return build_path(node), time_cost, space_cost"
   ]
  },
  {
   "cell_type": "code",
<<<<<<< HEAD
   "execution_count": 19,
=======
   "execution_count": null,
>>>>>>> 426eb3bb22045d0f5712c7229494bccdd687d093
   "metadata": {},
   "outputs": [],
   "source": [
    "def BFS_GraphSearch(problem):\n",
    "    \"\"\"\n",
    "    Graph Search BFS\n",
    "    \n",
    "    Args:\n",
    "        problem: OpenAI Gym environment\n",
    "        \n",
    "    Returns:\n",
    "        (path, time_cost, space_cost): solution as a path and stats.\n",
    "    \"\"\"\n",
    "    \n",
    "    node = Node(problem.startstate, None)\n",
    "    space_cost = 1\n",
<<<<<<< HEAD
    "    time_cost = 0\n",
    "    \n",
    "    frontier = NodeQueue()\n",
    "    frontier.add(node)\n",
    "    \n",
    "    explored_states = set()\n",
    "    \n",
    "    while True:\n",
    "        if frontier.is_empty():\n",
    "            return set(), 0, 0\n",
    "        \n",
    "        # Aggiorno statistiche\n",
    "        space_cost = max(space_cost, len(frontier) + len(explored_states))\n",
    "        time_cost += 1\n",
    "        \n",
    "        node = frontier.remove()\n",
    "        explored_states.add(node.state)\n",
    "        \n",
    "        for action in range(problem.action_space.n):\n",
    "            next_node = Node(problem.sample(node.state, action), node)\n",
    "            next_state = next_node.state\n",
    "            \n",
    "            if next_state not in frontier and next_state not in explored_states:\n",
    "                if next_state == problem.goalstate: # Trovata soluzione\n",
    "                    return build_path(next_node), time_cost, space_cost\n",
    "                \n",
    "                frontier.add(next_node)\n",
    "    \n",
    "    return build_path(node), time_cost, space_cost    "
=======
    "    #\n",
    "    # YOUR CODE HERE ...\n",
    "    #\n",
    "    return build_path(node), time_cost, space_cost       "
>>>>>>> 426eb3bb22045d0f5712c7229494bccdd687d093
   ]
  },
  {
   "cell_type": "markdown",
   "metadata": {},
   "source": [
    "The following code calls your tree search and graph search version of BFS and prints the results"
   ]
  },
  {
   "cell_type": "code",
<<<<<<< HEAD
   "execution_count": 20,
   "metadata": {
    "scrolled": true
   },
   "outputs": [
    {
     "name": "stdout",
     "output_type": "stream",
     "text": [
      "\n",
      "----------------------------------------------------------------\n",
      "\tBFS TREE SEARCH PROBLEM: \n",
      "----------------------------------------------------------------\n",
      "Solution: [(0, 1), (0, 0), (1, 0), (2, 0), (3, 0), (4, 0), (4, 1), (4, 2), (4, 3)]\n",
      "N° of nodes explored: 75\n",
      "Max n° of nodes in memory: 15\n",
      "\n",
      "----------------------------------------------------------------\n",
      "\tBFS GRAPH SEARCH PROBLEM: \n",
      "----------------------------------------------------------------\n",
      "Solution: [(0, 1), (0, 0), (1, 0), (2, 0), (3, 0), (4, 0), (4, 1), (4, 2), (4, 3)]\n",
      "N° of nodes explored: 15\n",
      "Max n° of nodes in memory: 15\n"
     ]
    }
   ],
=======
   "execution_count": null,
   "metadata": {
    "scrolled": true
   },
   "outputs": [],
>>>>>>> 426eb3bb22045d0f5712c7229494bccdd687d093
   "source": [
    "envname = \"SmallMaze-v0\"\n",
    "environment = gym.make(envname)\n",
    "\n",
    "solution_ts, time_ts, memory_ts = BFS_TreeSearch(environment)\n",
    "solution_gs, time_gs, memory_gs = BFS_GraphSearch(environment)\n",
    "\n",
    "print(\"\\n----------------------------------------------------------------\")\n",
    "print(\"\\tBFS TREE SEARCH PROBLEM: \")\n",
    "print(\"----------------------------------------------------------------\")\n",
    "print(\"Solution: {}\".format(solution_2_string(solution_ts, environment)))\n",
    "print(\"N° of nodes explored: {}\".format(time_ts))\n",
    "print(\"Max n° of nodes in memory: {}\".format(memory_ts))\n",
    "\n",
    "print(\"\\n----------------------------------------------------------------\")\n",
    "print(\"\\tBFS GRAPH SEARCH PROBLEM: \")\n",
    "print(\"----------------------------------------------------------------\")\n",
    "print(\"Solution: {}\".format(solution_2_string(solution_gs, environment)))\n",
    "print(\"N° of nodes explored: {}\".format(time_gs))\n",
    "print(\"Max n° of nodes in memory: {}\".format(memory_gs))"
   ]
  },
  {
   "cell_type": "markdown",
   "metadata": {},
   "source": [
    "Correct results can be found [here](lesson_1_results.txt)."
   ]
  },
  {
   "cell_type": "markdown",
   "metadata": {},
   "source": [
    "### Assignment 2:  Depth-Limited Search (DLS) and Iterative Deepening depth-first Search (IDS)\n",
    "\n",
    "Your second assignment is to implement the IDS algorithm on SmallMaze. \n",
    "In particular, you are required to implement *DLS* in the graph search version, *DLS* in the tree search version and the final *Iterative_DLS*.\n",
    "\n",
    "Similarly to assignment 1, the results returned by your ids must be in the following form (path, Time Cost, Space Cost) described above. After the correctness of your implementations have been assessed, you can run the algorithms on the **SmallMaze** environment.\n",
    "\n",
    "Functions to implement:\n",
    "\n",
    "- Recursive_DLS_TreeSearch(node, problem, limit)\n",
    "- Recursive_DLS_GraphSearch(node, problem, limit, explored)\n",
    "- IDS(problem)\n",
    "\n",
    "Function **build_path(node)** can be used to return a tuple of states from the root node (excluded) to another node by following parent links.\n",
    "\n",
    "Here the pseudo-code form the book **Artificial Intelligence: A Modern Approach** for the *Depth-Limited Search (Tree Search Version)* and *Iterative deepening depth-first search (Tree Search Version)*:\n",
    "<img src=\"images/dls.png\" width=\"600\">\n",
    "<img src=\"images/ids.png\" width=\"600\">\n",
    "\n",
    "Note that **Node** has a useful variable that can be set in the constructor and can be used to track the depth of a node in the path (and consequently of the recursion stack of IDS): pathcost. If the root node has a pathcost of 0, its children will have a pathcost increased by 1."
   ]
  },
  {
   "cell_type": "code",
<<<<<<< HEAD
   "execution_count": 8,
=======
   "execution_count": null,
>>>>>>> 426eb3bb22045d0f5712c7229494bccdd687d093
   "metadata": {},
   "outputs": [],
   "source": [
    "start = environment.startstate\n",
    "root = Node(start)  # parent = None and pathcost = 0 as default\n",
    "child = Node(environment.sample(start, 0), root, root.pathcost + 1)  # pathcost is the third argument\n",
    "print(\"Root pathcost: {}\\tChild pathcost: {}\".format(root.pathcost, child.pathcost))"
   ]
  },
  {
   "cell_type": "code",
<<<<<<< HEAD
   "execution_count": 9,
=======
   "execution_count": null,
>>>>>>> 426eb3bb22045d0f5712c7229494bccdd687d093
   "metadata": {},
   "outputs": [],
   "source": [
    "def DLS(problem, limit, RDLS_Function):\n",
    "    \"\"\"\n",
    "    DLS\n",
    "    \n",
    "    Args:\n",
    "        problem: OpenAI Gym environment\n",
    "        limit: depth limit for the exploration, negative number means 'no limit'\n",
    "        \n",
    "    Returns:\n",
    "        (path, time_cost, space_cost): solution as a path and stats.\n",
    "    \"\"\"\n",
    "        \n",
    "    node = Node(problem.startstate, None)\n",
    "    return RDLS_Function(node, problem, limit, set())"
   ]
  },
  {
   "cell_type": "markdown",
   "metadata": {},
   "source": [
    "The next two functions have to be implemented:"
   ]
  },
  {
   "cell_type": "code",
<<<<<<< HEAD
   "execution_count": 10,
=======
   "execution_count": null,
>>>>>>> 426eb3bb22045d0f5712c7229494bccdd687d093
   "metadata": {},
   "outputs": [],
   "source": [
    "def Recursive_DLS_GraphSearch(node, problem, limit, explored):\n",
    "    \n",
<<<<<<< HEAD
=======
    "    Args:\n",
    "        node: node to explore\n",
    "        problem: OpenAI Gym environment\n",
    "        limit: depth limit for the exploration, negative number means 'no limit'\n",
    "        explored: completely explored nodes\n",
    "        \n",
    "    Returns:\n",
    "        (path, time_cost, space_cost): solution as a path and stats.\n",
    "    \"\"\"\n",
    "    \n",
    "    #\n",
    "    # YOUR CODE HERE ...\n",
    "    #\n",
>>>>>>> 426eb3bb22045d0f5712c7229494bccdd687d093
    "    explored.add(node.state)\n",
    "    space_cost = node.pathcost\n",
    "    time_cost = 1 \n",
    "    \n",
    "    # Se è la soluzione\n",
    "    if node.state == problem.goalstate:\n",
    "        return node, time_cost, space_cost\n",
    "    \n",
    "    # Se abbiamo raggiunto il limite della ricorsione\n",
    "    if limit == 0:\n",
    "        return 'cut_off', time_cost, space_cost\n",
    "    \n",
    "    # Esploriamo i possibili passi successivi\n",
    "    cutoff_occured = False\n",
    "    for action in range(problem.action_space.n):\n",
    "        next_node = Node(problem.sample(node.state, action), node, node.pathcost + 1)\n",
    "\n",
    "        # Se il nodo è stato già visitato lo salto\n",
    "        if next_node.state in explored:\n",
    "            continue\n",
    "    \n",
    "        # Abbiamo esplorato un nuovo nodo\n",
    "        (res, sub_time_cost, sub_space_cost) = Recursive_DLS_GraphSearch(next_node, problem, limit - 1, explored)\n",
    "        \n",
    "        # Aggiorna statistiche\n",
    "        space_cost = max(space_cost, sub_space_cost)\n",
    "        time_cost += sub_time_cost; \n",
    "        \n",
    "        # Non abbiamo completato il ramo\n",
    "        if res == 'cut_off':\n",
    "            cutoff_occured = True\n",
    "        \n",
    "        # Abbiamo trovato il goal\n",
    "        elif res != 'failure':\n",
    "            return res, time_cost, space_cost\n",
    "            \n",
    "    \n",
    "    # Se non abbiamo completamente esplorato qualche ramo\n",
    "    if cutoff_occured:\n",
    "        return \"cut_off\", time_cost, space_cost\n",
    "    else:\n",
    "        return \"failure\", time_cost, space_cost\n",
    "    "
   ]
  },
  {
   "cell_type": "code",
<<<<<<< HEAD
   "execution_count": 11,
=======
   "execution_count": null,
>>>>>>> 426eb3bb22045d0f5712c7229494bccdd687d093
   "metadata": {},
   "outputs": [],
   "source": [
    "def Recursive_DLS_TreeSearch(node, problem, limit, explored=None):\n",
    "    \"\"\"\n",
    "    DLS (Tree Search Version)\n",
    "    \n",
    "    Args:\n",
    "        node: node to explore\n",
    "        problem: OpenAI Gym environment\n",
    "        limit: depth limit for the exploration, negative number means 'no limit'\n",
    "        \n",
    "    Returns:\n",
    "        (path, time_cost, space_cost): solution as a path and stats.\n",
    "    \"\"\"\n",
    "    \n",
<<<<<<< HEAD
=======
    "    #\n",
    "    # YOUR CODE HERE ...\n",
    "    #\n",
>>>>>>> 426eb3bb22045d0f5712c7229494bccdd687d093
    "    space_cost = node.pathcost\n",
    "    time_cost = 1 \n",
    "    \n",
    "    # Se è la soluzione\n",
    "    if node.state == problem.goalstate:\n",
    "        return node, time_cost, space_cost\n",
    "    \n",
    "    # Se abbiamo raggiunto il limite della ricorsione\n",
    "    if limit == 0:\n",
    "        return 'cut_off', time_cost, space_cost\n",
    "    \n",
    "    # Esploriamo i possibili passi successivi\n",
    "    cutoff_occured = False\n",
    "    for action in range(problem.action_space.n):\n",
    "        \n",
    "        next_node = Node(problem.sample(node.state, action), node, node.pathcost + 1)\n",
    "        (res, sub_time_cost, sub_space_cost) = Recursive_DLS_TreeSearch(next_node, problem, limit - 1, explored)\n",
    "        \n",
    "        # Aggiorna statistiche\n",
    "        space_cost = max(space_cost, sub_space_cost)\n",
    "        time_cost += sub_time_cost;\n",
    "        \n",
    "        # Non abbiamo completato il ramo\n",
    "        if res == 'cut_off':\n",
    "            cutoff_occured = True\n",
    "        \n",
    "        # Abbiamo trovato il goal\n",
    "        elif res != 'failure':\n",
    "            return res, time_cost, space_cost\n",
    "            \n",
    "    \n",
    "    # Se non abbiamo completamente esplorato qualche ramo\n",
    "    if cutoff_occured:\n",
    "        return \"cut_off\", time_cost, space_cost\n",
    "    else:\n",
    "        return \"failure\", time_cost, space_cost"
   ]
  },
  {
   "cell_type": "code",
<<<<<<< HEAD
   "execution_count": 12,
=======
   "execution_count": null,
>>>>>>> 426eb3bb22045d0f5712c7229494bccdd687d093
   "metadata": {},
   "outputs": [],
   "source": [
    "def IDS(problem, DLS_Function):\n",
    "    \"\"\"\n",
    "    Iteartive_DLS DLS\n",
    "    \n",
    "    Args:\n",
    "        problem: OpenAI Gym environment\n",
    "        \n",
    "    Returns:\n",
    "        (path, time_cost, space_cost): solution as a path and stats.\n",
    "    \"\"\"\n",
<<<<<<< HEAD
    "\n",
    "    total_time_cost  = 0\n",
=======
    "        \n",
    "    total_time_cost = 0\n",
>>>>>>> 426eb3bb22045d0f5712c7229494bccdd687d093
    "    total_space_cost = 1\n",
    "    \n",
    "    for i in zero_to_infinity():\n",
    "        (res, iter_time_cost, iter_space_cost) = DLS(problem, i, DLS_Function)\n",
    "        \n",
    "        total_space_cost = max(total_space_cost, iter_space_cost);\n",
    "        total_time_cost += iter_time_cost;\n",
    "        \n",
    "        #print(f'i: {i}, itc: {iter_time_cost}, isc: {iter_space_cost}, ttc: {total_time_cost}, tsc: {total_space_cost}')\n",
    "        if res != 'cut_off' and res != 'failure':\n",
    "            return build_path(res), total_time_cost, total_space_cost, i\n"
   ]
  },
  {
   "cell_type": "markdown",
   "metadata": {},
   "source": [
    "The following code calls your version of IDS and prints the results:"
   ]
  },
  {
   "cell_type": "code",
<<<<<<< HEAD
   "execution_count": 13,
   "metadata": {
    "scrolled": true
   },
   "outputs": [
    {
     "name": "stdout",
     "output_type": "stream",
     "text": [
      "\n",
      "----------------------------------------------------------------\n",
      "\tIDS TREE SEARCH PROBLEM: \n",
      "----------------------------------------------------------------\n",
      "Necessary Iterations: 9\n",
      "Solution: [(0, 1), (0, 0), (1, 0), (2, 0), (3, 0), (4, 0), (4, 1), (4, 2), (4, 3)]\n",
      "N° of nodes explored: 138298\n",
      "Max n° of nodes in memory: 9\n",
      "\n",
      "----------------------------------------------------------------\n",
      "\tIDS GRAPH SEARCH PROBLEM: \n",
      "----------------------------------------------------------------\n",
      "Necessary Iterations: 11\n",
      "Solution: [(0, 1), (0, 0), (1, 0), (1, 1), (2, 1), (2, 0), (3, 0), (4, 0), (4, 1), (4, 2), (4, 3)]\n",
      "N° of nodes explored: 118\n",
      "Max n° of nodes in memory: 11\n"
     ]
    }
   ],
=======
   "execution_count": null,
   "metadata": {},
   "outputs": [],
>>>>>>> 426eb3bb22045d0f5712c7229494bccdd687d093
   "source": [
    "envname = \"SmallMaze-v0\"\n",
    "environment = gym.make(envname)\n",
    "\n",
    "solution_ts, time_ts, memory_ts, iterations_ts = IDS(environment, Recursive_DLS_TreeSearch)\n",
    "solution_gs, time_gs, memory_gs, iterations_gs = IDS(environment, Recursive_DLS_GraphSearch)\n",
    "\n",
    "print(\"\\n----------------------------------------------------------------\")\n",
    "print(\"\\tIDS TREE SEARCH PROBLEM: \")\n",
    "print(\"----------------------------------------------------------------\")\n",
    "print(\"Necessary Iterations: {}\".format(iterations_ts))\n",
    "print(\"Solution: {}\".format(solution_2_string(solution_ts, environment)))\n",
    "print(\"N° of nodes explored: {}\".format(time_ts))\n",
    "print(\"Max n° of nodes in memory: {}\".format(memory_ts))\n",
    "        \n",
    "print(\"\\n----------------------------------------------------------------\")\n",
    "print(\"\\tIDS GRAPH SEARCH PROBLEM: \")\n",
    "print(\"----------------------------------------------------------------\")\n",
    "print(\"Necessary Iterations: {}\".format(iterations_gs))\n",
    "print(\"Solution: {}\".format(solution_2_string(solution_gs, environment)))\n",
    "print(\"N° of nodes explored: {}\".format(time_gs))\n",
    "print(\"Max n° of nodes in memory: {}\".format(memory_gs))"
   ]
  },
  {
   "cell_type": "markdown",
   "metadata": {},
   "source": [
    "Correct results can be found [here](lesson_1_results.txt).\n",
    "\n",
    "### Discussion\n",
    "\n",
    "Now that you have correctly implemented both BFS and IDS what can you say about the solutions they compute? Are there significant differences in the stats?"
   ]
  },
  {
   "cell_type": "code",
   "execution_count": null,
   "metadata": {},
   "outputs": [],
   "source": []
  },
  {
   "cell_type": "code",
   "execution_count": null,
   "metadata": {},
   "outputs": [],
   "source": []
  }
 ],
 "metadata": {
  "kernelspec": {
   "display_name": "Python 3 (ipykernel)",
   "language": "python",
   "name": "python3"
  },
  "language_info": {
   "codemirror_mode": {
    "name": "ipython",
    "version": 3
   },
   "file_extension": ".py",
   "mimetype": "text/x-python",
   "name": "python",
   "nbconvert_exporter": "python",
   "pygments_lexer": "ipython3",
   "version": "3.7.3"
  }
 },
 "nbformat": 4,
 "nbformat_minor": 4
}
