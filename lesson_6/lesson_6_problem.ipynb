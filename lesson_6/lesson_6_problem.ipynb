{
 "cells": [
  {
   "cell_type": "markdown",
   "metadata": {},
   "source": [
    "# AI-LAB LESSON 6: Deep Reinforcement Learning\n",
    "\n",
    "In this lesson we will use the CartPole environment and we will see how to create and work with a neural network using Kears on top of Tensorflow.\n",
    "\n",
    "## CartPole\n",
    "The environment used is **CartPole** (taken from the book of Sutton and Barto as visible in the figure)\n",
    "\n",
    "![Cartpole](images/cartpole.jpg)\n",
    "\n",
    "A pole is attached by an un-actuated joint to a cart, which moves along a frictionless track. The system is controlled by applying a force of +1 or -1 to the cart. The pendulum starts upright, and the goal is to prevent it from falling over. A reward of +1 is provided for every timestep that the pole remains upright. The episode ends when the pole is more than 15 degrees from vertical, or the cart moves more than 2.4 units from the center."
   ]
  },
  {
   "cell_type": "code",
   "execution_count": 1,
   "metadata": {},
   "outputs": [],
   "source": [
    "import os, sys, tensorflow.keras, random, numpy\n",
    "module_path = os.path.abspath(os.path.join('../tools'))\n",
    "if module_path not in sys.path:\n",
    "    sys.path.append(module_path)\n",
    "\n",
    "import gym, envs\n",
    "from utils.ai_lab_functions import *\n",
    "from timeit import default_timer as timer\n",
    "from tqdm import tqdm as tqdm\n",
    "from collections import deque\n",
    "from tensorflow.keras.models import Sequential\n",
    "from tensorflow.keras.layers import Dense, Dropout\n",
    "from tensorflow.keras.optimizers import Adam"
   ]
  },
  {
   "cell_type": "markdown",
   "metadata": {},
   "source": [
    "The **state** of environment is represented as a tuple of 4 values: \n",
    "- *Cart Position* range from -4.9 to 4.8\n",
    "- *Cart Velocity* range from -inf to +inf\n",
    "- *Pole Angle* range from -24 deg to 24 deg\n",
    "- *Pole Velocity* range from -inf to +inf\n",
    "\n",
    "The **actions** allowed in the environment are 2:\n",
    "- *action 0*: push cart to left\n",
    "- *action 1*: push cart to right\n",
    "\n",
    "The **reward** is 1 for every step taken, including the termination step."
   ]
  },
  {
   "cell_type": "code",
   "execution_count": 2,
   "metadata": {},
   "outputs": [
    {
     "name": "stdout",
     "output_type": "stream",
     "text": [
      "STARTING STATE: [-0.01579754 -0.02245492  0.04781105 -0.00225107]\n",
      "\tCart Position: -0.015797540049169667\n",
      "\tCart Velocity -0.022454923268852935\n",
      "\tPole Angle 0.04781105117005684 \n",
      "\tPole Velocity -0.0022510677825031827\n",
      "\n",
      "POSSIBLE ACTIONS:  2\n"
     ]
    }
   ],
   "source": [
    "env = gym.make(\"CartPole-v1\")\n",
    "state = env.reset()\n",
    "print(\"STARTING STATE: {}\".format(state))\n",
    "print(\"\\tCart Position: {}\\n\\tCart Velocity {}\\n\\tPole Angle {} \\n\\tPole Velocity {}\".format(state[0], state[1], state[2], state[3]))\n",
    "\n",
    "print(\"\\nPOSSIBLE ACTIONS: \", env.action_space.n)"
   ]
  },
  {
   "cell_type": "markdown",
   "metadata": {},
   "source": [
    "Finally, we still have the standard functionalities of a Gym environment:\n",
    "- step(action): the agent performs action from the current state. Returns a tuple (new_state, reward, done, info) where:\n",
    "    - new_state: is the new state reached as a consequence of the agent's last action\n",
    "    - reward: the reward obtained by the agent in this step\n",
    "    - done: True if the episode is terminal, False otherwise\n",
    "    - info: not used, you can safely discard it\n",
    "\n",
    "- reset(): the environment is reset and the agent goes back to the starting position. Returns the initial state id"
   ]
  },
  {
   "cell_type": "markdown",
   "metadata": {},
   "source": [
    "## Neural network with Kears\n",
    "**Keras** is an open-source neural-network library written in Python. It is capable of running on top of TensorFlow, Microsoft Cognitive Toolkit, R, Theano, or PlaidML. Designed to enable fast experimentation with deep neural networks, it focuses on being user-friendly, modular, and extensible.\n",
    "\n",
    "![Network](images/neural_networks.png)\n",
    "\n",
    "With kears you can easly create a neural network with the **Sequential** module. Before training a neural netowrk you must compile it, selecting the loss function and the optimizer, in our experiment we will use the *mean_squared_error* for the loss function and the *adam* optimizer, that is a standard configuration for a DQN problem."
   ]
  },
  {
   "cell_type": "code",
   "execution_count": 3,
   "metadata": {},
   "outputs": [],
   "source": [
    "input_layer = 3\n",
    "layer_size = 5\n",
    "output_layer = 2\n",
    "\n",
    "model = Sequential()\n",
    "model.add(Dense(layer_size, input_dim=input_layer, activation=\"relu\")) #input layer + hidden layer #1\n",
    "model.add(Dense(layer_size, activation=\"relu\")) #hidden layer #2\n",
    "model.add(Dense(layer_size, activation=\"relu\")) #hidden layer #3\n",
    "model.add(Dense(layer_size, activation=\"relu\")) #hidden layer #4\n",
    "model.add(Dense(layer_size, activation=\"relu\")) #hidden layer #5\n",
    "model.add(Dense(output_layer, activation=\"linear\")) #output layer\n",
    "\n",
    "model.compile(loss=\"mean_squared_error\", optimizer='adam') #loss function and optimzer definition"
   ]
  },
  {
   "cell_type": "markdown",
   "metadata": {},
   "source": [
    "In Keras you can compute the output of a network with the **predict** function, that requires in input the values of the input layer nodes and returns the corresponding values of the output layer."
   ]
  },
  {
   "cell_type": "code",
   "execution_count": 4,
   "metadata": {},
   "outputs": [
    {
     "name": "stdout",
     "output_type": "stream",
     "text": [
      "Input network: [0.1674825610999774, 0.6302852979183581, 0.49884956129790936]\n",
      "network Prediction: [-0.01516445 -0.02208831]\n"
     ]
    }
   ],
   "source": [
    "input_network = [random.uniform(0, 1), random.uniform(0, 1), random.uniform(0, 1)]\n",
    "output_network = model.predict(np.array([input_network]))\n",
    "print(\"Input network: {}\".format(input_network))\n",
    "print(\"network Prediction: {}\".format(output_network[0]))"
   ]
  },
  {
   "cell_type": "markdown",
   "metadata": {},
   "source": [
    "To train a network in Keras we must use the function **fit**, that take as input:\n",
    "- *input*: the input of the network that we are interested to train\n",
    "- *expected_output*: the output that we consider correct\n",
    "- *epochs*: the number of iteration for the backpropagation (in DQN this value is always 1)."
   ]
  },
  {
   "cell_type": "code",
   "execution_count": 5,
   "metadata": {},
   "outputs": [
    {
     "name": "stdout",
     "output_type": "stream",
     "text": [
      "Prediction 'before' training:\n",
      "[[-0.01594068 -0.02321895]]\n",
      "\n",
      "Prediction 'after' training:\n",
      "[[0. 0.]]\n"
     ]
    }
   ],
   "source": [
    "input_network = [random.uniform(0, 1), random.uniform(0, 1), random.uniform(0, 1)]\n",
    "expected_output = [0, 0]\n",
    "\n",
    "print(\"Prediction 'before' training:\")\n",
    "print(model.predict(np.array([input_network])))\n",
    "\n",
    "model.fit(np.array([input_network]), np.array([expected_output]), epochs=1000, verbose=0)\n",
    "\n",
    "print(\"\\nPrediction 'after' training:\")\n",
    "print(model.predict(np.array([input_network])))"
   ]
  },
  {
   "cell_type": "markdown",
   "metadata": {},
   "source": [
    "Finally, remember that for all the methods (*fit*, *predict*, ...) keras requires as input a numpy array of array, for example you must convert your state in the correct **shape**.  Kears will return, in the same way, an array of array, so to extract the corresponding ouutput layer you must select the first element."
   ]
  },
  {
   "cell_type": "code",
   "execution_count": 6,
   "metadata": {},
   "outputs": [
    {
     "name": "stdout",
     "output_type": "stream",
     "text": [
      "Prediction: [0.01743064 0.01560328]\n"
     ]
    }
   ],
   "source": [
    "state = np.array([0, 0, 0])\n",
    "# model.predict(input_network) will give you a shape error\n",
    "state = state.reshape(1, 3)\n",
    "print(\"Prediction:\", model.predict(state)[0])"
   ]
  },
  {
   "cell_type": "markdown",
   "metadata": {},
   "source": [
    "## Assignment: Q-Learning\n",
    "\n",
    "Your first assignement is to implement all the functions nexessary for a deep q-learning algorithm. In particular you must implement the following functions: *create_model*, *train_model* and *DQN*.\n",
    "\n",
    "#### Hint:\n",
    "For the experience replay buffer you can use the python data structure *dequeue*, defining the maximum length allowed. With the *random.sample(replay_buffer, size)* function you can sample *size* element from the queue:"
   ]
  },
  {
   "cell_type": "code",
   "execution_count": 7,
   "metadata": {},
   "outputs": [
    {
     "name": "stdout",
     "output_type": "stream",
     "text": [
      "Get 3 element from replay_buffer: [0.7951751985628519, 0.11837116852095697, 0.9820342772598029]\n"
     ]
    }
   ],
   "source": [
    "replay_buffer = deque(maxlen=10000)\n",
    "for _ in range(100): replay_buffer.append(random.uniform(0, 1))\n",
    "    \n",
    "samples = random.sample(replay_buffer, 3) \n",
    "print(\"Get 3 element from replay_buffer:\", samples)"
   ]
  },
  {
   "cell_type": "code",
   "execution_count": 8,
   "metadata": {},
   "outputs": [],
   "source": [
    "def create_model(input_size, output_size, hidden_layer_size, hidden_layer_number):\n",
    "    \"\"\"\n",
    "    Create the neural network model with the given parameters\n",
    "    \n",
    "    Args:\n",
    "        input_size: the number of nodes for the input layer\n",
    "        output_size: the number of nodes for the output layer\n",
    "        hidden_layer_size: the number of nodes for each hidden layer\n",
    "        hidden_layer_number: the number of hidden layers\n",
    "        \n",
    "    Returns:\n",
    "        model: the corresponding neural network\n",
    "    \"\"\"\n",
    "\n",
    "    model = Sequential()\n",
    "\n",
    "    # Layer iniziale di input + hidden layer\n",
    "    model.add(Dense(hidden_layer_size, input_dim=input_size, activation=\"relu\"))\n",
    "    \n",
    "    # Hidden layers intermedi\n",
    "    for _ in range(1, hidden_layer_number):\n",
    "        model.add(Dense(hidden_layer_size, activation=\"relu\"))\n",
    "\n",
    "    # Layer finale di output\n",
    "    model.add(Dense(output_size, activation=\"linear\"))\n",
    "\n",
    "    model.compile(loss=\"mean_squared_error\", optimizer='adam')\n",
    "    return model"
   ]
  },
  {
   "cell_type": "code",
   "execution_count": 9,
   "metadata": {},
   "outputs": [],
   "source": [
    "def experience_replay(neural_network, memory, batch_size, gamma=0.99):\n",
    "    \"\"\"\n",
    "    Performs the value iteration algorithm for a specific environment\n",
    "    \n",
    "    Args:\n",
    "        neural_network: the neural network model to train\n",
    "        memory: the memory array on wich perform the training\n",
    "        batch_size: the size of the batch sampled from the memory\n",
    "        gamma: gamma value, the discount factor for the Bellman equation\n",
    "    \"\"\"    \n",
    "    \n",
    "    TRAINING_EPOCHS  = 1\n",
    "    TRAINING_VERBOSE = 0\n",
    "\n",
    "    # Se non abbiamo abbastanza eventi per riempire un mini-batch\n",
    "    # evitiamo di fare training\n",
    "    if len(memory) < batch_size:\n",
    "        return neural_network\n",
    "\n",
    "    # Ottiene mini-batch dall'esperienza\n",
    "    experience = random.sample(memory, batch_size)\n",
    "    for event in experience:\n",
    "        current_state, action, next_state, reward, done = event\n",
    "        \n",
    "        # Dato uno stato passato genera la nuova risposta del NN\n",
    "        current_state = current_state.reshape(1, 4)\n",
    "        target = neural_network.predict(current_state)[0]\n",
    "\n",
    "        # Calcola reward dell'azione a seconda che lo stato sia terminale o no\n",
    "        if done:\n",
    "            target[action] = reward\n",
    "        else:\n",
    "            next_state = next_state.reshape(1, 4)\n",
    "            max_q = max(neural_network.predict(next_state)[0])\n",
    "            target[action] = reward + gamma * max_q\n",
    "\n",
    "        # Training sulle esperienze\n",
    "        target = target.reshape(1, 2)\n",
    "        neural_network.fit(current_state, target, \n",
    "            epochs=TRAINING_EPOCHS, verbose=TRAINING_VERBOSE)\n",
    "    \n",
    "    return neural_network"
   ]
  },
  {
   "cell_type": "code",
   "execution_count": 10,
   "metadata": {},
   "outputs": [],
   "source": [
    "def DQN(environment, neural_network, trials, goal_score, batch_size, epsilon_decay=0.9995):\n",
    "    \"\"\"\n",
    "    Performs the Q-Learning algorithm for a specific environment on a specific neural network model\n",
    "    \n",
    "    Args:\n",
    "        environment: OpenAI Gym environment\n",
    "        neural_network: the neural network to train\n",
    "        trials: the number of iterations for the training phase\n",
    "        goal_score: the minimum score to consider 'solved' the problem\n",
    "        batch_size: the size of the batch sampled from the memory\n",
    "        epsilon_decay: the dacay value of epsilon for the eps-greedy exploration\n",
    "        \n",
    "    Returns:\n",
    "        score_queue: 1-d dimensional array of the reward obtained at each trial step\n",
    "    \"\"\"\n",
    "\n",
    "\n",
    "    epsilon = 1.0; epsilon_min = 0.01\n",
    "    score_queue = []\n",
    "\n",
    "    EXPERIENCE_BUFFER_LEN = 10000\n",
    "    experience_buffer = deque(maxlen = EXPERIENCE_BUFFER_LEN)\n",
    "\n",
    "    # Episodi di addestramento\n",
    "    for trial in range(trials):\n",
    "        \n",
    "        current_state = environment.reset()\n",
    "\n",
    "        # Numero di azioni prese per esplorazione o sfruttamento\n",
    "        exploration  = 0\n",
    "        exploitation = 0\n",
    "\n",
    "        done = False\n",
    "        trial_score = 0\n",
    "        while not done:\n",
    "\n",
    "            # Output del NN\n",
    "            current_state = current_state.reshape(1, 4)\n",
    "            nn_actions_score = neural_network.predict(current_state)[0]\n",
    "                        \n",
    "            # Con probabilità epsilon sceglie di esplorare e con prob. (1 - epsilon) di seguire la policy\n",
    "            if random.uniform(0.0, 1.0) > epsilon:\n",
    "                action = numpy.argmax(nn_actions_score)\n",
    "                exploitation += 1\n",
    "            else:\n",
    "                action = environment.action_space.sample()\n",
    "                exploration += 1\n",
    "\n",
    "            # Rendiamo sempre meno probabile l'esplorazione\n",
    "            epsilon = max(epsilon * epsilon_decay, epsilon_min)\n",
    "\n",
    "            # Esegue l'azione scelta e salva il risultato nella cache di esperienza\n",
    "            next_state, reward, done, _ = environment.step(action)\n",
    "            experience_buffer.append([current_state, action, next_state, reward, done])\n",
    "            \n",
    "            neural_network = experience_replay(neural_network, experience_buffer, batch_size)\n",
    "            trial_score = trial_score + reward\n",
    "            current_state = next_state\n",
    "            \n",
    "        score_queue.append(trial_score)\n",
    "        if trial_score > goal_score or score_queue == []: \n",
    "            break\n",
    "        \n",
    "        print(\"Episode: {:7.0f}, Score: {:3.0f}, ExpBufferSize: {:7.0f}, Exploitation: {:3.0f}, Exploration: {:3.0f}, EPS: {:3.5f}\"\n",
    "            .format(trial, score_queue[-1], len(experience_buffer), str(exploitation), str(exploration), epsilon))\n",
    "    \n",
    "    return neural_network, score_queue"
   ]
  },
  {
   "cell_type": "code",
   "execution_count": 11,
   "metadata": {},
   "outputs": [
    {
     "name": "stdout",
     "output_type": "stream",
     "text": [
      "Episode:       0, Score:  19, ExpBufferSize: 19, Exploitation: 0, Exploration: 19, EPS: 0.99054\n",
      "Episode:       1, Score:  23, ExpBufferSize: 42, Exploitation: 0, Exploration: 23, EPS: 0.97921\n",
      "Episode:       2, Score:  28, ExpBufferSize: 70, Exploitation: 1, Exploration: 27, EPS: 0.96560\n",
      "Episode:       3, Score:  15, ExpBufferSize: 85, Exploitation: 1, Exploration: 14, EPS: 0.95838\n",
      "Episode:       4, Score:  47, ExpBufferSize: 132, Exploitation: 2, Exploration: 45, EPS: 0.93612\n",
      "Episode:       5, Score:  31, ExpBufferSize: 163, Exploitation: 2, Exploration: 29, EPS: 0.92171\n",
      "Episode:       6, Score:  11, ExpBufferSize: 174, Exploitation: 1, Exploration: 10, EPS: 0.91666\n",
      "Episode:       7, Score:  10, ExpBufferSize: 184, Exploitation: 1, Exploration: 9, EPS: 0.91208\n",
      "Episode:       8, Score:  16, ExpBufferSize: 200, Exploitation: 0, Exploration: 16, EPS: 0.90481\n",
      "Episode:       9, Score:  15, ExpBufferSize: 215, Exploitation: 0, Exploration: 15, EPS: 0.89805\n",
      "Episode:      10, Score:  17, ExpBufferSize: 232, Exploitation: 1, Exploration: 16, EPS: 0.89045\n",
      "Episode:      11, Score:  15, ExpBufferSize: 247, Exploitation: 2, Exploration: 13, EPS: 0.88379\n",
      "Episode:      12, Score:  58, ExpBufferSize: 305, Exploitation: 10, Exploration: 48, EPS: 0.85853\n",
      "Episode:      13, Score:  20, ExpBufferSize: 325, Exploitation: 2, Exploration: 18, EPS: 0.84998\n",
      "Episode:      14, Score:  11, ExpBufferSize: 336, Exploitation: 3, Exploration: 8, EPS: 0.84532\n",
      "Episode:      15, Score:  36, ExpBufferSize: 372, Exploitation: 6, Exploration: 30, EPS: 0.83023\n",
      "Episode:      16, Score:   9, ExpBufferSize: 381, Exploitation: 2, Exploration: 7, EPS: 0.82651\n",
      "Episode:      17, Score:  89, ExpBufferSize: 470, Exploitation: 23, Exploration: 66, EPS: 0.79052\n",
      "Episode:      18, Score:  19, ExpBufferSize: 489, Exploitation: 1, Exploration: 18, EPS: 0.78305\n",
      "Episode:      19, Score:  20, ExpBufferSize: 509, Exploitation: 2, Exploration: 18, EPS: 0.77525\n",
      "Episode:      20, Score:  55, ExpBufferSize: 564, Exploitation: 10, Exploration: 45, EPS: 0.75422\n",
      "Episode:      21, Score:  55, ExpBufferSize: 619, Exploitation: 13, Exploration: 42, EPS: 0.73376\n",
      "Episode:      22, Score:  27, ExpBufferSize: 646, Exploitation: 8, Exploration: 19, EPS: 0.72392\n",
      "Episode:      23, Score:  24, ExpBufferSize: 670, Exploitation: 8, Exploration: 16, EPS: 0.71528\n",
      "Episode:      24, Score: 103, ExpBufferSize: 773, Exploitation: 29, Exploration: 74, EPS: 0.67937\n",
      "Episode:      25, Score:  23, ExpBufferSize: 796, Exploitation: 4, Exploration: 19, EPS: 0.67160\n",
      "Episode:      26, Score:  19, ExpBufferSize: 815, Exploitation: 4, Exploration: 15, EPS: 0.66524\n",
      "Episode:      27, Score:  35, ExpBufferSize: 850, Exploitation: 11, Exploration: 24, EPS: 0.65370\n",
      "Episode:      28, Score:  15, ExpBufferSize: 865, Exploitation: 5, Exploration: 10, EPS: 0.64881\n",
      "Episode:      29, Score:  94, ExpBufferSize: 959, Exploitation: 32, Exploration: 62, EPS: 0.61902\n",
      "Episode:      30, Score:  48, ExpBufferSize: 1007, Exploitation: 21, Exploration: 27, EPS: 0.60434\n",
      "Episode:      31, Score:  59, ExpBufferSize: 1066, Exploitation: 23, Exploration: 36, EPS: 0.58676\n"
     ]
    }
   ],
   "source": [
    "env = gym.make(\"CartPole-v1\")\n",
    "neural_network = create_model(4, 2, 32, 2)\n",
    "neural_network, score = DQN(env, neural_network, trials=1000, goal_score=130, batch_size=32)"
   ]
  },
  {
   "cell_type": "markdown",
   "metadata": {},
   "source": [
    "## Execution\n",
    "The following code executes the DQN and plots the reward function, the execution could require up to 10 minutes on some computer. A more efficent version of the code can be found [here](https://github.com/d-corsi/BasicRL).\n",
    "Correct results for comparison can be found here below. Notice that since the executions are stochastic the charts could differ: the important thing is the global trend and the final convergence to a visible reward improvement."
   ]
  },
  {
   "cell_type": "code",
   "execution_count": 12,
   "metadata": {},
   "outputs": [
    {
     "data": {
      "image/png": "[encoded data removed]",
      "text/plain": [
       "<Figure size 936x432 with 1 Axes>"
      ]
     },
     "metadata": {
      "needs_background": "light"
     },
     "output_type": "display_data"
    }
   ],
   "source": [
    "rewser = []\n",
    "window = 10\n",
    "\n",
    "score = rolling(np.array(score), window)\n",
    "rewser.append({\"x\": np.arange(1, len(score) + 1), \"y\": score, \"ls\": \"-\", \"label\": \"DQN\"})\n",
    "plot(rewser, \"Rewards\", \"Episodes\", \"Rewards\")"
   ]
  },
  {
   "cell_type": "markdown",
   "metadata": {},
   "source": [
    "**Standard DQN on CartPole results:**\n",
    "<img src=\"images/results-dqn.png\" width=\"600\">"
   ]
  }
 ],
 "metadata": {
  "kernelspec": {
   "display_name": "Python 3 (ipykernel)",
   "language": "python",
   "name": "python3"
  },
  "language_info": {
   "codemirror_mode": {
    "name": "ipython",
    "version": 3
   },
   "file_extension": ".py",
   "mimetype": "text/x-python",
   "name": "python",
   "nbconvert_exporter": "python",
   "pygments_lexer": "ipython3",
   "version": "3.7.3"
  }
 },
 "nbformat": 4,
 "nbformat_minor": 4
}
